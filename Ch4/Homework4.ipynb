{
 "cells": [
  {
   "cell_type": "markdown",
   "metadata": {},
   "source": [
    "# K-means and K-medoids\n",
    "\n",
    "Assume we have a 2D dataset consisting of $(0, -6), (4,4), (0,0), (-5,2)$. We wish to do k-means and k-medoids clustering with $k=2$. We initialize the cluster centers with $(-5, 2), (0, -6)$.\n",
    "\n",
    "For this small dataset, in choosing between two equally valid exemplars for a cluster in k-medoids, choose them with priority in the order given above (i.e. all other things being equal, you would choose $(0, -6)$ as a center over $(-5, 2)$).\n",
    "\n",
    "For the following scenarios, give the clusters and cluster centers after the algorithm converges. Enter the coordinate of each cluster center as a square-bracketed list (e.g. [0, 0]); enter each cluster's members in a similar format, separated by semicolons (e.g. [1, 2]; [3, 4])."
   ]
  },
  {
   "cell_type": "code",
   "execution_count": 98,
   "metadata": {},
   "outputs": [
    {
     "name": "stdout",
     "output_type": "stream",
     "text": [
      "Group 0:  [4, 4]; [0, 0]; [-5, 2]\n",
      "Group 1:  [0, -6]\n",
      "[(0, 0), (0, -6)]\n"
     ]
    }
   ],
   "source": [
    "ds = ((0, -6), (4, 4), (0, 0), (-5, 2))\n",
    "c = ((-5, 2), (0, -6))\n",
    "\n",
    "norm = lambda lst, dim: sum(el**dim for el in lst)**(1/dim) \n",
    "l1 = lambda lst: norm(lst, 1)\n",
    "l2 = lambda lst: norm(lst, 2)\n",
    "abs_diff = lambda a, b: map(lambda x,y: abs(x-y), a, b)\n",
    "first_min_arg = lambda lst: lst.index(min(lst))\n",
    "\n",
    "\n",
    "def closest_center(dp, norm, centers):\n",
    "    distc = [norm( abs_diff(dp, cn) ) for cn in centers]\n",
    "    return first_min_arg(distc)\n",
    "\n",
    "def assign_to_closest_center(ds, norm, centers):\n",
    "    return [closest_center(dp, norm, centers) for dp in ds]\n",
    "\n",
    "def shortest_distance_to_other_points_in_group(ds_group, l_norm):\n",
    "    return first_min_arg([sum(l_norm(abs_diff(point, other)) for other in ds_group) for point in ds_group])\n",
    "\n",
    "def step1_k_medoids(ds, l_norm, center):\n",
    "    ds_groups = list(list(filter(lambda dp: closest_center(dp, l_norm, center) == center_index, ds)) for center_index in (0,1))\n",
    "    return ds_groups\n",
    "\n",
    "\n",
    "def step2_k_medoids(ds_groups, l_norm):\n",
    "    \"\"\"Returns center indices\"\"\"\n",
    "    return [shortest_distance_to_other_points_in_group(ds_group, l_norm) for ds_group in ds_groups]\n",
    "\n",
    "\n",
    "def step_k_medoids(ds, l_norm):\n",
    "    centers = c \n",
    "    ds_groups = step1_k_medoids(ds, l_norm, centers)\n",
    "    new_center_indices = step2_k_medoids(ds_groups, l_norm)\n",
    "    centers =list(group[new_center_indices[idx]] for idx, group in enumerate(ds_groups))\n",
    "    return ds_groups, centers\n",
    "\n",
    "def print_clusters(ds_groups):\n",
    "    [print(\n",
    "        f\"Group {grp_no}: \", \n",
    "        '; '.join([\n",
    "            str([el for el in point]) for point in group\n",
    "            ])) \n",
    "    for grp_no, group in enumerate(ds_groups)]\n",
    "\n",
    "# print_clusters(step1_k_medoids(ds, l1, c))\n",
    "# print_clusters(step1_k_medoids(ds, l2, c))\n",
    "# print(*[shortest_distance_to_other_points_in_group(ds_group, l2) for ds_group in step1_k_medoids(ds, l2)])\n",
    "ds_groups, centers = step_k_medoids(ds, l2)\n",
    "print_clusters(ds_groups)\n",
    "print(centers)"
   ]
  },
  {
   "cell_type": "markdown",
   "metadata": {},
   "source": [
    "# Maximum Likelihood Estimation\n",
    "\n"
   ]
  },
  {
   "cell_type": "code",
   "execution_count": 116,
   "metadata": {},
   "outputs": [
    {
     "name": "stdout",
     "output_type": "stream",
     "text": [
      "C: 3/14 or 0.214\n",
      "B: 5/14 or 0.357\n",
      "A: 6/14 or 0.429\n"
     ]
    }
   ],
   "source": [
    "seq = 'A B A B B C A B A A B C A C'.split(' ')\n",
    "print(*[el+ \": \" + str(seq.count(el)) + '/' + str(len(seq)) + ' or ' + str(round(seq.count(el)/len(seq),3)) for el in set(seq)], sep='\\n')"
   ]
  },
  {
   "cell_type": "code",
   "execution_count": 127,
   "metadata": {},
   "outputs": [
    {
     "name": "stdout",
     "output_type": "stream",
     "text": [
      "ABC 0.032774741999999996\n",
      "BBB 0.04549929299999999\n",
      "ABB 0.054675620999999994\n",
      "AAC 0.039384774\n"
     ]
    }
   ],
   "source": [
    "from functools import reduce\n",
    "ThA, ThB, ThC = [round(seq.count(el)/len(seq),3) for el in ['A', 'B', 'C']]\n",
    "\n",
    "seqs = ['ABC', 'BBB', 'ABB', 'AAC']\n",
    "probability = lambda ch: ThA if ch=='A' else ThB if ch=='B' else ThC\n",
    "product = lambda x,y: x*y\n",
    "\n",
    "for s in seqs:\n",
    "   print(s, reduce(product, map(probability, s)))\n",
    "\n"
   ]
  },
  {
   "cell_type": "code",
   "execution_count": null,
   "metadata": {},
   "outputs": [],
   "source": []
  }
 ],
 "metadata": {
  "kernelspec": {
   "display_name": "Python 3.9.2 64-bit",
   "language": "python",
   "name": "python3"
  },
  "language_info": {
   "codemirror_mode": {
    "name": "ipython",
    "version": 3
   },
   "file_extension": ".py",
   "mimetype": "text/x-python",
   "name": "python",
   "nbconvert_exporter": "python",
   "pygments_lexer": "ipython3",
   "version": "3.9.2"
  },
  "orig_nbformat": 4,
  "vscode": {
   "interpreter": {
    "hash": "767d51c1340bd893661ea55ea3124f6de3c7a262a8b4abca0554b478b1e2ff90"
   }
  }
 },
 "nbformat": 4,
 "nbformat_minor": 2
}
