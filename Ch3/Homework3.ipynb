{
 "cells": [
  {
   "cell_type": "markdown",
   "metadata": {},
   "source": [
    "Homework 3  \n",
    "Compiled with  \n",
    "\\$ jupyter nbconvert --to pdf Homework3.\n",
    "\n",
    "<!-- Maybe use the --execute flag -->"
   ]
  },
  {
   "cell_type": "markdown",
   "metadata": {},
   "source": [
    "# Neural Networks\n",
    "\n",
    "In this problem we will analyze a simple neural network to understand its classification properties. Consider the neural network given in the figure below, with ReLU activation functions (denoted by $f$) on all neurons, and a softmax activation function in the output layer:\n",
    "\n",
    "![Abeskønt](figs/NN1_simpleNN.png)\n",
    "\n",
    "Given an input $x = [x_1, x_2]^T$, the hidden units in the network are activated in stages as described by the following equations:\n",
    "\n",
    "\n",
    "\\begin{align*}\n",
    "z_1 &= x_1 W_{11} + x_2 W_{21} + W_{01}        \\quad\\quad       f(z_1)\\ = \\text{max}\\{z_1,0 \\}\\\\\n",
    "z_2 &= x_1 W_{12} + x_2 W_{22} + W_{02}        \\quad\\quad       f(z_2)\\ = \\text{max}\\{z_2,0 \\}\\\\\n",
    "z_3 &= x_1 W_{13} + x_2 W_{23} + W_{03}        \\quad\\quad       f(z_3)\\ = \\text{max}\\{z_3,0 \\}\\\\\n",
    "z_4 &= x_1 W_{14} + x_2 W_{24} + W_{04}        \\quad\\quad       f(z_4)\\ = \\text{max}\\{z_4,0 \\}\\\\\n",
    "\\end{align*}\n",
    "\n",
    "\n",
    "\n",
    "\\begin{align*}\n",
    "u_1 &= f(z_1) V_{11} + f(z_2) V_{21} + f(z_3) V_{31} + f(z_4) V_{41} + V_{01}        \\quad\\quad       f(u_1)\\ = \\text{max}\\{u_1,0 \\}\\\\\n",
    "u_2 &= f(z_1) V_{12} + f(z_2) V_{22} + f(z_3) V_{32} + f(z_4) V_{42} + V_{02}        \\quad\\quad       f(u_2)\\ = \\text{max}\\{u_2,0 \\}\\\\\n",
    "\\end{align*}\n",
    "\n",
    "\n",
    "The final output of the network is obtained by applying the softmax function to the last hidden layer,\n",
    "\n",
    "\\begin{align*}\n",
    "o_1 &= \\dfrac{e^{f(u_1)}}{e^{f(u_1)} + e^{f(u_2)}}\\\\\n",
    "o_2 &= \\dfrac{e^{f(u_2)}}{e^{f(u_1)} + e^{f(u_2)}}\\\\\n",
    "\\end{align*}\n",
    "\n",
    "In this problem we will consider the following set of parameters:\n",
    "\n",
    "$$\n",
    "\\begin{bmatrix} \n",
    "W_{11}  & W_{21}    &   W_{01}\\\\\n",
    "W_{12}  & W_{22}    &   W_{02}\\\\\n",
    "W_{13}  & W_{23}    &   W_{03}\\\\\n",
    "W_{14}  & W_{24}    &   W_{04}\n",
    "\\end{bmatrix}\n",
    "=\n",
    "\\begin{bmatrix}\n",
    "1   &   0   &   -1\\\\\n",
    "0   &   1   &   -1\\\\\n",
    "-1  &   0   &   -1\\\\\n",
    "0   &   -1  &   -1\\\\\n",
    "\\end{bmatrix}\n",
    "$$\n",
    "\n",
    "$$\n",
    "\\begin{bmatrix} \n",
    "V_{11}  & V_{21}    &   V_{31}  & V_{41}  & V_{01}\\\\\n",
    "V_{12}  & V_{22}    &   V_{32}  & V_{42}  & V_{02}\n",
    "\\end{bmatrix}\n",
    "=\n",
    "\\begin{bmatrix}\n",
    "1   &   1   &   1 & 1&0\\\\\n",
    "-1   &  -1   &   -1&-1&2\\\\\n",
    "\\end{bmatrix}\n",
    "$$"
   ]
  },
  {
   "cell_type": "markdown",
   "metadata": {},
   "source": [
    "## Feed forward step ##\n",
    "\n",
    "Consider the input $x_1=3$, $x_2=14$. What is the final output $(o_1, o_2)$ of the network?"
   ]
  },
  {
   "cell_type": "code",
   "execution_count": 121,
   "metadata": {},
   "outputs": [
    {
     "name": "stdout",
     "output_type": "stream",
     "text": [
      "[0.9999996940977731, 3.059022269256247e-07]\n",
      "Alternatively:\n",
      "o1 = e^15/(e^15+e^0)\n",
      "o2 = e^0/(e^15+e^0)\n"
     ]
    }
   ],
   "source": [
    "import math\n",
    "from math import exp\n",
    "f = lambda x: max(0,x)\n",
    "fexp = lambda input: map(lambda x: exp(f(x)), input)\n",
    "softmax = lambda input: list(map(lambda x: x/sum(fexp(input)), fexp(input)))\n",
    "inner_vv = lambda v1, v2: sum(map(lambda x, y: x*y, v1, v2))\n",
    "inner_Mv = lambda M, v: [inner_vv(M_row, v) for M_row in M]\n",
    "\n",
    "W = [[1, 0, -1], [0, 1, -1], [-1, 0, -1], [0, -1, -1]]\n",
    "V = [[1,1,1,1,0], [-1,-1,-1,-1,2]]\n",
    "x = [3, 14]\n",
    "\n",
    "z = inner_Mv(W, [*x, 1])\n",
    "fz = list(map(f, z))\n",
    "\n",
    "u = inner_Mv(V, [*fz, 1])\n",
    "\n",
    "print(softmax(u))\n",
    "\n",
    "print(\"Alternatively:\")\n",
    "from functools import reduce\n",
    "# print(f\"o1 = e^{f(u[0])}/({reduce(lambda x,y: x+'+'+ y, ('e^' + str(f(x)) for x in u))})\")\n",
    "# print(f\"o2 = e^{f(u[1])}/({reduce(lambda x,y: x+'+'+ y, ('e^' + str(f(x)) for x in u))})\")\n",
    "\n",
    "print(reduce(lambda x,y: x+'\\n' + y, (f\"o{the_index +1} = e^{f(the_u)}/({reduce(lambda x,y: x+'+'+ y, ('e^' + str(f(x)) for x in u))})\" for the_index, the_u in enumerate(u))))"
   ]
  },
  {
   "cell_type": "markdown",
   "metadata": {},
   "source": [
    "## Decision Boundaries\n",
    "\n",
    "In this problem we visualize the “decision boundaries\" in $x$-space, corresponding to the four hidden units. These are the lines in $x$-space where the values of $z_1,\\ z_2,\\ z_3,\\ z_4$ are exactly zero. Plot the decision boundaries of the four hidden units using the parameters of $W$  provided above.\n",
    "\n",
    "Enter below the area of the region of your plot that corresponds to a negative ($<0$) value for all of the four hidden units."
   ]
  },
  {
   "cell_type": "markdown",
   "metadata": {},
   "source": [
    "**Answer**\n",
    "\n",
    "Line1:   \n",
    "\\begin{align*}\n",
    "x_1 W_{11} + x_2 W_{21} + W_{01} = 0\\\\\n",
    "x_1 - 1 = 0\\\\\n",
    "x_1 = 1\n",
    "\\end{align*}\n",
    "\n",
    "Line2:   \n",
    "\\begin{align*}\n",
    "x_1 W_{12} + x_2 W_{22} + W_{02} = 0\\\\\n",
    "x_2 - 1 = 0\\\\\n",
    "x_2 = 1\n",
    "\\end{align*}\n",
    "\n",
    "Line3:   \n",
    "\\begin{align*}\n",
    "x_1 W_{13} + x_2 W_{23} + W_{03} = 0\\\\\n",
    "-x_1 - 1 = 0\\\\\n",
    "x_1 = -1\n",
    "\\end{align*}\n",
    "\n",
    "Line4:   \n",
    "\\begin{align*}\n",
    "x_1 W_{14} + x_2 W_{24} + W_{04} = 0\\\\\n",
    "-x_2 - 1 = 0\\\\\n",
    "x_2 = -1\n",
    "\\end{align*}\n"
   ]
  },
  {
   "cell_type": "code",
   "execution_count": 191,
   "metadata": {},
   "outputs": [
    {
     "data": {
      "image/png": "[encoded data removed]",
      "text/plain": [
       "<Figure size 432x288 with 1 Axes>"
      ]
     },
     "metadata": {
      "needs_background": "light"
     },
     "output_type": "display_data"
    },
    {
     "name": "stdout",
     "output_type": "stream",
     "text": [
      "Area = 4 units\n"
     ]
    }
   ],
   "source": [
    "import matplotlib.pyplot as plt\n",
    "\n",
    "plt.figure()\n",
    "plt.plot([1, 1],[-1,1], 'b--', label='z1=0')\n",
    "plt.arrow(1,0, 0.2* W[0][0], 0.2 * W[0][1], head_width=.04)\n",
    "plt.plot([-1, 1],[1,1], 'r--', label='z2=0')\n",
    "plt.arrow(0,1, 0.2* W[1][0], 0.2 * W[1][1], head_width=.04)\n",
    "plt.plot([-1, -1],[-1,1], 'b-.', label='z3=0')\n",
    "plt.arrow(-1,0, 0.2* W[2][0], 0.2 * W[2][1], head_width=.04)\n",
    "plt.plot([-1, 1],[-1,-1], 'r-.', label='z4=0')\n",
    "plt.arrow(0,-1, 0.2* W[3][0], 0.2 * W[3][1], head_width=.04)\n",
    "plt.legend()\n",
    "plt.show()\n",
    "plt.close()\n",
    "\n",
    "print('Area = 4 units')"
   ]
  },
  {
   "cell_type": "markdown",
   "metadata": {},
   "source": [
    "## Output of Neural Network\n",
    "\n",
    "Using the same matrix $V$ as above, what is the value of $o_1$ (accurate to at least three decimal places if responding numerically) in the following three cases?"
   ]
  },
  {
   "cell_type": "markdown",
   "metadata": {},
   "source": [
    "Assuming that $f(z_1) + f(z_2) + f(z_3) + f(z_4) = 1$:"
   ]
  },
  {
   "cell_type": "code",
   "execution_count": 202,
   "metadata": {},
   "outputs": [
    {
     "name": "stdout",
     "output_type": "stream",
     "text": [
      "o1 = e^1/(e^1+e^1)\n",
      "o2 = e^1/(e^1+e^1)\n",
      "Values: [0.5, 0.5]\n"
     ]
    }
   ],
   "source": [
    "sums = 1\n",
    "u = [sums +0 , -sums +2]\n",
    "print(reduce(lambda x,y: x+'\\n' + y, (f\"o{the_index +1} = e^{f(the_u)}/({reduce(lambda x,y: x+'+'+ y, ('e^' + str(f(x)) for x in u))})\" for the_index, the_u in enumerate(u))))\n",
    "print('Values:', softmax(u))"
   ]
  },
  {
   "cell_type": "markdown",
   "metadata": {},
   "source": [
    "Assuming that $f(z_1) + f(z_2) + f(z_3) + f(z_4) = 0$:"
   ]
  },
  {
   "cell_type": "code",
   "execution_count": 203,
   "metadata": {},
   "outputs": [
    {
     "name": "stdout",
     "output_type": "stream",
     "text": [
      "o1 = e^0/(e^0+e^2)\n",
      "o2 = e^2/(e^0+e^2)\n",
      "Values: [0.11920292202211755, 0.8807970779778824]\n"
     ]
    }
   ],
   "source": [
    "sums = 0\n",
    "u = [sums +0 , -sums +2]\n",
    "print(reduce(lambda x,y: x+'\\n' + y, (f\"o{the_index +1} = e^{f(the_u)}/({reduce(lambda x,y: x+'+'+ y, ('e^' + str(f(x)) for x in u))})\" for the_index, the_u in enumerate(u))))\n",
    "print('Values:', softmax(u))"
   ]
  },
  {
   "cell_type": "markdown",
   "metadata": {},
   "source": [
    "Assuming that $f(z_1) + f(z_2) + f(z_3) + f(z_4) = 3$:"
   ]
  },
  {
   "cell_type": "code",
   "execution_count": 204,
   "metadata": {},
   "outputs": [
    {
     "name": "stdout",
     "output_type": "stream",
     "text": [
      "o1 = e^3/(e^3+e^0)\n",
      "o2 = e^0/(e^3+e^0)\n",
      "Values: [0.9525741268224333, 0.04742587317756678]\n"
     ]
    }
   ],
   "source": [
    "sums = 3\n",
    "u = [sums +0 , -sums +2]\n",
    "print(reduce(lambda x,y: x+'\\n' + y, (f\"o{the_index +1} = e^{f(the_u)}/({reduce(lambda x,y: x+'+'+ y, ('e^' + str(f(x)) for x in u))})\" for the_index, the_u in enumerate(u))))\n",
    "print('Values:', softmax(u))"
   ]
  },
  {
   "cell_type": "markdown",
   "metadata": {},
   "source": [
    "## Inverse temperature\n",
    "\n",
    "Just math.. fuck it"
   ]
  },
  {
   "cell_type": "markdown",
   "metadata": {},
   "source": [
    "# LSTM\n",
    "\n",
    "The diagram below shows a single LSTM unit that consists of Input, Output, and Forget gates.\n",
    "\n",
    "![](figs/LSTM_unit.png)\n",
    "\n",
    "The behavior of such a unit as a recurrent neural network is specified by a set of update equations. These equations define how the gates, “memory cell\" $c_t$ and the “visible state\" $h_t$ are updated in response to input $x_t$ and previous states $c_{t-1}$, $h_{t-1}$. For the LSTM unit,\n",
    "\n",
    "\\begin{align*}\n",
    "f_t &= \\text{sigmoid}(W^{f,h}h_{t-1}\\ +\\ W^{f,x}x_t\\ +\\ b_f)\\\\\n",
    "i_t &= \\text{sigmoid}(W^{i,h}h_{t-1}\\ +\\ W^{i,x}x_t\\ +\\ b_i)\\\\\n",
    "o_t &= \\text{sigmoid}(W^{o,h}h_{t-1}\\ +\\ W^{o,x}x_t\\ +\\ b_o)\\\\\n",
    "c_t &= f_t \\odot c_{t-1} + i_t \\odot \\text{tanh}(W^{c,h}h_{t-1} + W^{c,x}x_t + b_c)\\\\\n",
    "h_t &= o_t \\odot  \\text{tanh}(c_t)\\\\\n",
    "\\end{align*}\n",
    "\n",
    "where symbol $\\odot$ stands for element-wise multiplication. The adjustable parameters in this unit are matrices $W^{f,h}$, $W^{f,x}$, $W^{i,h}$, $W^{i,x}$, $W^{o,h}$, $W^{o,x}$, $W^{c,h}$, $W^{c,x}$ as well as the offset parameter vectors $b_f$, $b_i$, $b_o$, and $b_c$. By changing these parameters, we change how the unit evolves as a function of inputs $x_t$.\n",
    "\n",
    "To keep things simple, in this problem we assume that $x_t$, $c_t$, and $h_t$ are all scalars. Concretely, suppose that the parameters are given by:\n",
    "$$\\begin{array}{llll}\n",
    "W^{f,h} = 0 &   W^{f,x} = 0     &   b_f = -100  &   W^{c,h} = -100\\\\\n",
    "W^{i,h} = 0 &   W^{i,x} = 100   &   b_i = 100   &   W^{c,x} = 50\\\\\n",
    "W^{o,h} = 0 &   W^{o,x} = 100   &   b_o = 0     &   b_c = 0\\\\\n",
    "\\end{array}$$\n",
    "\n",
    "We run this unit with initial conditions $h_{-1} = 0$ and $c_{-1}=0$, and in response to the following input sequence: [0, 0, 1, 1, 1, 0] (For example, $x_0=0$, $x_1 = 0$, $x_2=1$, and so on)."
   ]
  },
  {
   "cell_type": "markdown",
   "metadata": {},
   "source": [
    "## LSTM states\n",
    "\n",
    "Calculate the values $h_t$ at each time-step and enter them below as an array $[h_0, h_1, h_2, h_3, h_4, h_5]$.\n",
    "\n",
    "(Please round $h_t$ to the closest integer in every time-step. If $h_t = \\pm 0.5$, then round it to $0$.\n",
    "For ease of calculation, assume that $\\text{sigmoid}(x)\\approx 1$ and $\\tanh(x)\\approx1$ for $x\\ge1$, and $\\text{sigmoid}(x)\\approx 0$ and $\\tanh(x)\\approx-1$ for $x\\le-1$.)"
   ]
  },
  {
   "cell_type": "code",
   "execution_count": 233,
   "metadata": {},
   "outputs": [
    {
     "name": "stdout",
     "output_type": "stream",
     "text": [
      "[0, 0, 1, -1, 1, 0]\n"
     ]
    }
   ],
   "source": [
    "Wfh = 0\n",
    "Wih = 0\n",
    "Woh = 0\n",
    "Wfx = 0\n",
    "Wix = 100\n",
    "Wox = 100\n",
    "b_f = -100\n",
    "b_i = 100\n",
    "b_o = 0\n",
    "Wch = -100\n",
    "Wcx = 50\n",
    "b_c = 0\n",
    "\n",
    "h_1 = 0\n",
    "c_1 = 0\n",
    "x = [0, 0, 1, 1, 1, 0]\n",
    "\n",
    "sigmoid = lambda x: 1 if x>=1 else 0 if x<=-1 else 0.5*x + 0.5\n",
    "tanh    = lambda x: 1 if x>=1 else -1 if x<=-1 else x\n",
    "\n",
    "f = lambda ht_1, x_t, Wfx=Wfx, Wfh=Wfh, b_f=b_f:    sigmoid(Wfh * ht_1 + Wfx * x_t + b_f)\n",
    "i = lambda ht_1, x_t, Wix=Wix, Wih=Wih, b_i=b_i:    sigmoid(Wih * ht_1 + Wix * x_t + b_i)\n",
    "o = lambda ht_1, x_t, Wox=Wox, Woh=Woh, b_o=b_o:    sigmoid(Woh * ht_1 + Wox * x_t + b_o)\n",
    "\n",
    "c = lambda ft, it, ct_1, ht_1, x_t, Wch=Wch, Wcx=Wcx, b_c=b_c:        ft * ct_1 + it * tanh(Wch * ht_1 + Wcx * x_t + b_c) \n",
    "h = lambda o_t, c_t:                                o_t * tanh(c_t)\n",
    "\n",
    "\n",
    "ht_1 = [h_1]\n",
    "ct_1 = [c_1]\n",
    "for j in range(6):\n",
    "    ft = f(ht_1[j], x[j])\n",
    "    it = i(ht_1[j], x[j])\n",
    "    ot = o(ht_1[j], x[j])\n",
    "    ct_1.append( c(ft, it, ct_1[j], ht_1[j], x[j]) )\n",
    "    ht_1.append( round(h(ot, ct_1[j+1])) )\n",
    "\n",
    "\n",
    "\n",
    "print(ht_1[1:])"
   ]
  },
  {
   "cell_type": "markdown",
   "metadata": {},
   "source": [
    "## LSTM states 2\n",
    "\n",
    "Now, we run the same model again with the same parameters and same initial conditions as in the previous question. The only difference is that our input sequence in now: [1, 1, 0, 1, 1].\n",
    "\n",
    "Calculate the values $h_t$ at each time-step and enter them below as an array $[h_0, h_1, h_2, h_3, h_4, h_5]$."
   ]
  },
  {
   "cell_type": "code",
   "execution_count": 236,
   "metadata": {},
   "outputs": [
    {
     "name": "stdout",
     "output_type": "stream",
     "text": [
      "[1, -1, 0, 1, -1]\n"
     ]
    }
   ],
   "source": [
    "x =  [1,1,0,1,1]\n",
    "\n",
    "ht_1 = [h_1]\n",
    "ct_1 = [c_1]\n",
    "for j in range(5):\n",
    "    ft = f(ht_1[j], x[j])\n",
    "    it = i(ht_1[j], x[j])\n",
    "    ot = o(ht_1[j], x[j])\n",
    "    ct_1.append( c(ft, it, ct_1[j], ht_1[j], x[j]) )\n",
    "    ht_1.append( round(h(ot, ct_1[j+1])) )\n",
    "\n",
    "print(ht_1[1:])"
   ]
  },
  {
   "cell_type": "markdown",
   "metadata": {},
   "source": [
    "# Backpropagation\n",
    "\n",
    "One of the key steps for training multi-layer neural networks is stochastic gradient descent. We will use the back-propagation algorithm to compute the gradient of the loss function with respect to the model parameters.\n",
    "\n",
    "Consider the $L$-layer neural network below:\n",
    "\n",
    "![backpropagation](figs/backpropagation.png)\n",
    "\n",
    "\n",
    "In the following problems, we will the following notation: $b_j^l$ is the bias of the $j^{th}$ neuron in the $l^{th}$ layer, $a_j^l$ is the activation of $j^{th}$ neuron in the $l^{th}$ layer, and $w_{jk}^l$ is the weight for the connection from the $k^{th}$ neuron in the $(l-1)^{th}$ layer to the $j^{th}$ neuron in the $l^{th}$ layer.\n",
    "\n",
    "If the activation function is $f$ and the loss function we are minimizing is $C$, then the equations describing the network are:\n",
    "\n",
    "\\begin{align*}\n",
    "a_j^l &= f\\left(\\sum\\limits_k w_{jk}^la_k^{l-1} + b_j^l  \\right)\\\\\n",
    "\\text{Loss} &= C(a^L) \n",
    "\\end{align*}\n",
    "\n",
    "Note that notations without subscript denote the corresponding vector or matrix, so that $a^l$ is activation vector of the $l^{th}$ layer, and $w^l$ is the weights matrix in $l^{th}$  layer.\n",
    "\n",
    "For $l = 1, \\ldots, L$.\n"
   ]
  },
  {
   "cell_type": "markdown",
   "metadata": {},
   "source": [
    "## Computing the Error\n",
    "\n",
    "Let the weighted inputs to the $d$ neurons in layer $l$ be defined as $z^l=w^la^{l-1} + b^l$, where $z^l\\in\\mathbb R^d$. As a result, we can also write the activation of layer $l$ as $a^l\\equiv f(z^l)$, and the “error\" of neuron $j$ in layer $l$ as $\\delta_j^l\\equiv \\dfrac{\\partial C}{\\partial z_j^l}$. Let $\\delta^l \\in \\mathbb R^d$ denote the full vector of errors associated with layer $l$.\n",
    "\n",
    "Back-propagation will give us a way of computing $\\delta^l$ for every layer.\n",
    "\n",
    "Assume there are $d$ outputs from the last layer (i.e. $a^L \\in \\mathbb R^d$). What is $\\delta_j^L$ for the last layer?"
   ]
  },
  {
   "cell_type": "markdown",
   "metadata": {},
   "source": [
    "Loads of arithmetic later...."
   ]
  },
  {
   "cell_type": "markdown",
   "metadata": {},
   "source": []
  }
 ],
 "metadata": {
  "kernelspec": {
   "display_name": "Python 3.8.10 64-bit",
   "language": "python",
   "name": "python3"
  },
  "language_info": {
   "codemirror_mode": {
    "name": "ipython",
    "version": 3
   },
   "file_extension": ".py",
   "mimetype": "text/x-python",
   "name": "python",
   "nbconvert_exporter": "python",
   "pygments_lexer": "ipython3",
   "version": "3.8.10"
  },
  "orig_nbformat": 4,
  "vscode": {
   "interpreter": {
    "hash": "e7370f93d1d0cde622a1f8e1c04877d8463912d04d973331ad4851f04de6915a"
   }
  }
 },
 "nbformat": 4,
 "nbformat_minor": 2
}
